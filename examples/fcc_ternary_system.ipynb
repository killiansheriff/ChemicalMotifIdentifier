{
 "cells": [
  {
   "cell_type": "markdown",
   "metadata": {},
   "source": [
    "# ChemicalMotifIdentifier\n",
    "\n",
    "**To reviewers:** As we are keeping these codes private untill acceptance of the work, the PyPi installation of the package will not work. Please follow the instructions below to install all packages and dependencies.\n"
   ]
  },
  {
   "cell_type": "code",
   "execution_count": null,
   "metadata": {},
   "outputs": [],
   "source": [
    "%%capture \n",
    "! pip install gdown\n",
    "\n",
    "# Downling private packages\n",
    "import gdown\n",
    "\n",
    "gdown.download_folder(\n",
    "    \"https://drive.google.com/drive/folders/1jqf5LNeN-SDBuXJinHIlZa54YKbkAk6y?usp=drive_link\",\n",
    "    output=\"./\",\n",
    "    quiet=True,\n",
    ")\n",
    "\n",
    "\n",
    "! cd _additional_packages/Polya && pip install -e .  && cd .. \n",
    "! cd _additional_packages/NshellFinder && pip install -e .  && cd .. \n",
    "! cd _additional_packages/Simplex && pip install -e .  && cd .. \n",
    "\n",
    "# # Installing chemicalmotifidentifier\n",
    "! cd .. && pip install -e . \n",
    "\n",
    "! pip install rich"
   ]
  },
  {
   "cell_type": "markdown",
   "metadata": {},
   "source": [
    "This is a quick tutorial on:\n",
    "1. Analytically obtaining a pattern inventory for a ternary system (CrCoNi) in the fcc crystal structure. \n",
    "1. Obtaining the pattern inventory with ML and creating a physically constrained embedding space from which we can compute dissimilarities between motifs. \n",
    "1. Computing dissimilarity between motifs in atomistic data."
   ]
  },
  {
   "cell_type": "code",
   "execution_count": null,
   "metadata": {},
   "outputs": [],
   "source": [
    "from polya import Polya\n",
    "from rich import print\n",
    "from sympy import init_printing, symbols  # For latex formatting\n",
    "import numpy as np\n",
    "import pandas as pd\n",
    "import os\n",
    "import matplotlib.pyplot as plt\n",
    "\n",
    "%matplotlib inline\n",
    "\n",
    "from _frameworks import INPUT_GDOWN_LINK\n",
    "\n",
    "# Downloading neceassry inputs (model weights, dump files, ...)\n",
    "import gdown\n",
    "\n",
    "os.makedirs(\"data/\", exist_ok=True)\n",
    "gdown.download_folder(INPUT_GDOWN_LINK, output=\"data/\", quiet=True)"
   ]
  },
  {
   "cell_type": "markdown",
   "metadata": {},
   "source": [
    "## 1. Ternary system pattern inventory"
   ]
  },
  {
   "cell_type": "code",
   "execution_count": null,
   "metadata": {},
   "outputs": [],
   "source": [
    "init_printing()\n",
    "\n",
    "pl = Polya(graph_name=\"fcc\")\n",
    "\n",
    "ntypes = 3\n",
    "p_g, nms = pl.get_gt(ntypes=ntypes)\n",
    "\n",
    "# Replacing t1, t2 and t3 with Cr, Co, Ni.\n",
    "p_g = p_g.subs(\n",
    "    {\n",
    "        symbols(\"t1\"): symbols(\"Cr\"),\n",
    "        symbols(\"t2\"): symbols(\"Co\"),\n",
    "        symbols(\"t3\"): symbols(\"Ni\"),\n",
    "    }\n",
    ")\n",
    "\n",
    "print(\n",
    "    \"The pattern inventory for the fcc first coordination polyhedron of the CrCoNi system is given by: \\n\"\n",
    ")\n",
    "\n",
    "p_g"
   ]
  },
  {
   "cell_type": "code",
   "execution_count": null,
   "metadata": {},
   "outputs": [],
   "source": [
    "print(\n",
    "    f\"\\n We have a total of {nms} distinct coordination polyhedron, which in turns yield {nms*ntypes} distinct local chemical motifs. \"\n",
    ")"
   ]
  },
  {
   "cell_type": "markdown",
   "metadata": {},
   "source": [
    "## 2. Model expressivity on the fcc ternary synthetic dataset and physically constrained embedding space"
   ]
  },
  {
   "cell_type": "code",
   "execution_count": null,
   "metadata": {},
   "outputs": [],
   "source": [
    "from _frameworks import SyntheticChemicalMotifIdentifier\n",
    "\n",
    "eca = SyntheticChemicalMotifIdentifier(crystal_structure=\"fcc\")\n",
    "df = eca.predict(\n",
    "    root=\"data/synthetic/fcc_graph_datasets/\",\n",
    "    skeleton_graph_path=\"data/inputs_doi-10.48550-arXiv.2311.01545/fcc_1nn.pt\",\n",
    "    atom_types_paths=[\n",
    "        \"data/inputs_doi-10.48550-arXiv.2311.01545/fcc_nelement3_generators.pt\"\n",
    "    ],\n",
    "    nelement=3,\n",
    ")\n",
    "os.makedirs(\"data/synthetic/outputs/\", exist_ok=True)\n",
    "df.to_pickle(\"data/synthetic/outputs/df_fcc.pkl\")"
   ]
  },
  {
   "cell_type": "code",
   "execution_count": null,
   "metadata": {},
   "outputs": [],
   "source": [
    "# Obtaining the ML pattern inventory\n",
    "df = pd.read_pickle(\"data/synthetic/outputs/df_fcc.pkl\")\n",
    "\n",
    "shell_concentrations, counts = (\n",
    "    np.array(list(df.shell_concentration)),\n",
    "    np.array(list(df.counts)),\n",
    ")\n",
    "unique_concentrations, counts = np.unique(\n",
    "    shell_concentrations, axis=0, return_inverse=True\n",
    ")\n",
    "\n",
    "pattern = {\n",
    "    tuple(unique_concentrations[i]): counts[i]\n",
    "    for i in range(len(unique_concentrations))\n",
    "}\n",
    "print(\"The machine learning pattern inventory is given by:\")\n",
    "print(pattern)\n",
    "print(f\"We have a total of {len(counts)} distinct 1CP.\")"
   ]
  },
  {
   "cell_type": "markdown",
   "metadata": {},
   "source": [
    "## 3. Chemical motif identification in atomistic data"
   ]
  },
  {
   "cell_type": "code",
   "execution_count": null,
   "metadata": {},
   "outputs": [],
   "source": [
    "from _frameworks import MonteCarloChemicalMotifIdentifier\n",
    "\n",
    "dump_files = [\n",
    "    f\"data/inputs_doi-10.48550-arXiv.2311.01545/dumps/ordered_relaxation_20_{i}_300K.dump\"\n",
    "    for i in range(1, 5 + 1)\n",
    "]\n",
    "\n",
    "eca = MonteCarloChemicalMotifIdentifier(crystal_structure=\"fcc\")\n",
    "df = eca.predict(root=\"data/mc/outputs/eca_id/300K/\", dump_file=dump_files)\n",
    "kl = eca.get_kl(df)\n",
    "df.to_pickle(\"data/mc/outputs/eca_id/300K/df_microstates.pkl\")"
   ]
  },
  {
   "cell_type": "markdown",
   "metadata": {},
   "source": [
    "Let's compute the dissimilarity between motif $\\mathcal{M}_0$ and $\\mathcal{M}_1$ shown below: "
   ]
  },
  {
   "cell_type": "code",
   "execution_count": null,
   "metadata": {},
   "outputs": [],
   "source": [
    "from chemicalmotifidentifier import Plot\n",
    "\n",
    "plot = Plot(\n",
    "    structure=\"fcc\",\n",
    "    graph_folder=\"data/inputs_doi-10.48550-arXiv.2311.01545/graph_plot_templates\",\n",
    ")\n",
    "plot.set_colors(np.array([\"#FED700\", \"#21B0FE\", \"#FE218B\"]))\n",
    "plot.set_node_size(4)\n",
    "plot.set_width(0.2)\n",
    "\n",
    "for i in [0, 1]:\n",
    "    df_row = df.iloc[i]\n",
    "\n",
    "    types_with_central_atom = np.concatenate(\n",
    "        ([df_row.central_atom_type], np.array(list(df_row.shell_atomic_types)))\n",
    "    )\n",
    "\n",
    "    fig, ax = plt.subplots(figsize=(1, 1))\n",
    "    plot.plot_ms(new_atom_types=types_with_central_atom)\n",
    "    plt.show()"
   ]
  },
  {
   "cell_type": "code",
   "execution_count": null,
   "metadata": {},
   "outputs": [],
   "source": [
    "from chemicalmotifidentifier import Dissimilarity\n",
    "\n",
    "phys_emb_i = np.concatenate(([df.iloc[0].central_atom_type], df.iloc[0].shell_phys_emb))\n",
    "phys_emb_j = np.concatenate(([df.iloc[1].central_atom_type], df.iloc[1].shell_phys_emb))\n",
    "\n",
    "(\n",
    "    central_atom_dissim,\n",
    "    concentration_dissim,\n",
    "    structural_dissim,\n",
    ") = Dissimilarity().get_separate_dissimilarities(3, phys_emb_j, phys_emb_i)\n",
    "\n",
    "weights = np.array([12.0, 24.0, 24.0])\n",
    "weights *= 1 / np.sum(weights)\n",
    "d_ij = (\n",
    "    weights[0] * central_atom_dissim\n",
    "    + weights[1] * concentration_dissim / 12\n",
    "    + weights[2] * structural_dissim\n",
    ")\n",
    "\n",
    "\n",
    "print(f\"The dissimilarity between these two motifs is: {d_ij}. \\n \n",
    "Before weighthing based on the number of bonds of each structure, they have a central atom dissimilarity of {central_atom_dissim} since they are the same. Their chemical composition dissimilarity is of {concentration_dissim / 12}/12 because only two atoms are swapped. And their structural dissimilarity is of {structural_dissim}.\")"
   ]
  }
 ],
 "metadata": {
  "kernelspec": {
   "display_name": "Python 3",
   "language": "python",
   "name": "python3"
  },
  "language_info": {
   "codemirror_mode": {
    "name": "ipython",
    "version": 3
   },
   "file_extension": ".py",
   "mimetype": "text/x-python",
   "name": "python",
   "nbconvert_exporter": "python",
   "pygments_lexer": "ipython3",
   "version": "3.11.7"
  }
 },
 "nbformat": 4,
 "nbformat_minor": 2
}
