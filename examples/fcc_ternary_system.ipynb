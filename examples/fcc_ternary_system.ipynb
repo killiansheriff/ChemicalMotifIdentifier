{
 "cells": [
  {
   "cell_type": "markdown",
   "metadata": {},
   "source": [
    "# ChemicalMotifIdentifier"
   ]
  },
  {
   "cell_type": "markdown",
   "metadata": {},
   "source": [
    "This is a quick tutorial on:\n",
    "1. Analytically obtaining a pattern inventory for a ternary system (CrCoNi) in the fcc crystal structure. \n",
    "1. Obtaining the pattern inventory with ML and creating a physically constrained embedding space from which we can compute dissimilarities between motifs. \n",
    "1. Computing dissimilarity between motifs in atomistic data."
   ]
  },
  {
   "cell_type": "code",
   "execution_count": 23,
   "metadata": {},
   "outputs": [],
   "source": [
    "from polya import Polya\n",
    "from rich import print\n",
    "from sympy import init_printing, symbols  # For latex formatting\n",
    "import numpy as np \n",
    "import pandas as pd \n",
    "import os\n",
    "import matplotlib.pyplot as plt\n",
    "%matplotlib inline  "
   ]
  },
  {
   "cell_type": "markdown",
   "metadata": {},
   "source": [
    "## 1. Ternary system pattern inventory"
   ]
  },
  {
   "cell_type": "code",
   "execution_count": null,
   "metadata": {},
   "outputs": [],
   "source": [
    "\n",
    "init_printing()\n",
    "\n",
    "pl = Polya(graph_name=\"fcc\")\n",
    "\n",
    "ntypes = 3\n",
    "p_g, nms = pl.get_gt(ntypes=ntypes)\n",
    "\n",
    "# Replacing t1, t2 and t3 with Cr, Co, Ni.\n",
    "p_g = p_g.subs(\n",
    "    {\n",
    "        symbols(\"t1\"): symbols(\"Cr\"),\n",
    "        symbols(\"t2\"): symbols(\"Co\"),\n",
    "        symbols(\"t3\"): symbols(\"Ni\"),\n",
    "    }\n",
    ")\n",
    "\n",
    "print(\n",
    "    \"The pattern inventory for the fcc first coordination polyhedron of the CrCoNi system is given by: \\n\"\n",
    ")\n",
    "\n",
    "p_g"
   ]
  },
  {
   "cell_type": "code",
   "execution_count": null,
   "metadata": {},
   "outputs": [],
   "source": [
    "print(\n",
    "    f\"\\n We have a total of {nms} distinct coordination polyhedron, which in turns yield {nms*ntypes} distinct local chemical motifs. \"\n",
    ")"
   ]
  },
  {
   "cell_type": "markdown",
   "metadata": {},
   "source": [
    "## 2. Model expressivity on the fcc ternary synthetic dataset and physically constrained embedding space"
   ]
  },
  {
   "cell_type": "code",
   "execution_count": null,
   "metadata": {},
   "outputs": [],
   "source": [
    " \n",
    "from _frameworks import ECASyntheticFirstPaper\n",
    "\n",
    "eca = ECASyntheticFirstPaper(crystal_structure=\"fcc\")\n",
    "df = eca.predict(\n",
    "    root=\"data/synthetic/fcc_graph_datasets/\",\n",
    "    skeleton_graph_path=\"data/inputs_doi-10.48550-arXiv.2311.01545/fcc_1nn.pt\",\n",
    "    atom_types_paths=[\"data/inputs_doi-10.48550-arXiv.2311.01545/fcc_nelement3_generators.pt\"],\n",
    "    nelement=3,\n",
    ")\n",
    "os.makedirs(\"data/synthetic/outputs/\", exist_ok=True)\n",
    "df.to_pickle(\"data/synthetic/outputs/df_fcc.pkl\")"
   ]
  },
  {
   "cell_type": "code",
   "execution_count": null,
   "metadata": {},
   "outputs": [],
   "source": [
    "# Verification\n",
    "df = pd.read_pickle(\"data/synthetic/outputs/df_fcc.pkl\")\n",
    "\n",
    "shell_concentrations, counts = np.array(list(df.shell_concentration)), np.array(list(df.counts))\n",
    "unique_concentrations, counts = np.unique(shell_concentrations, axis=0,return_inverse=True)\n",
    "\n",
    "pattern = {tuple(unique_concentrations[i]) : counts[i] for i in range(len(unique_concentrations))}\n",
    "print('The machine learning pattern inventory is given by:')\n",
    "print(pattern)\n",
    "print(f'We have a total of {len(counts)} distinct 1CP.')"
   ]
  },
  {
   "cell_type": "markdown",
   "metadata": {},
   "source": [
    "## 3. Application of the framework on atomistic data"
   ]
  },
  {
   "cell_type": "code",
   "execution_count": null,
   "metadata": {},
   "outputs": [],
   "source": [
    "from _frameworks import ECA_MD_FirstPaper\n",
    "\n",
    "dump_files = [\n",
    "    f\"data/inputs_doi-10.48550-arXiv.2311.01545/dumps/ordered_relaxation_20_{i}_300K.dump\" for i in range(1, 5 + 1)\n",
    "]\n",
    "\n",
    "eca = ECA_MD_FirstPaper(crystal_structure=\"fcc\")\n",
    "df = eca.predict(root=\"data/mc/outputs/eca_id/300K/\", dump_file=dump_files)\n",
    "kl = eca.get_kl(df)\n",
    "df.to_pickle(\"data/mc/outputs/eca_id/300K/df_microstates.pkl\")"
   ]
  },
  {
   "cell_type": "code",
   "execution_count": 5,
   "metadata": {},
   "outputs": [
    {
     "data": {
      "text/html": [
       "<div>\n",
       "<style scoped>\n",
       "    .dataframe tbody tr th:only-of-type {\n",
       "        vertical-align: middle;\n",
       "    }\n",
       "\n",
       "    .dataframe tbody tr th {\n",
       "        vertical-align: top;\n",
       "    }\n",
       "\n",
       "    .dataframe thead th {\n",
       "        text-align: right;\n",
       "    }\n",
       "</style>\n",
       "<table border=\"1\" class=\"dataframe\">\n",
       "  <thead>\n",
       "    <tr style=\"text-align: right;\">\n",
       "      <th></th>\n",
       "      <th></th>\n",
       "      <th>shell_ID</th>\n",
       "      <th>shell_phys_emb</th>\n",
       "      <th>counts</th>\n",
       "      <th>shell_atomic_types</th>\n",
       "      <th>shell_concentration</th>\n",
       "      <th>central_atom_type</th>\n",
       "      <th>count_md</th>\n",
       "      <th>emb</th>\n",
       "      <th>p</th>\n",
       "      <th>q</th>\n",
       "      <th>pop_ratio</th>\n",
       "    </tr>\n",
       "    <tr>\n",
       "      <th>central_atom_type</th>\n",
       "      <th>shell_ID</th>\n",
       "      <th></th>\n",
       "      <th></th>\n",
       "      <th></th>\n",
       "      <th></th>\n",
       "      <th></th>\n",
       "      <th></th>\n",
       "      <th></th>\n",
       "      <th></th>\n",
       "      <th></th>\n",
       "      <th></th>\n",
       "      <th></th>\n",
       "    </tr>\n",
       "  </thead>\n",
       "  <tbody>\n",
       "    <tr>\n",
       "      <th rowspan=\"5\" valign=\"top\">0</th>\n",
       "      <th>2293</th>\n",
       "      <td>2293</td>\n",
       "      <td>(3.0, 1.7320508075688772, 0.37284796)</td>\n",
       "      <td>12</td>\n",
       "      <td>(1, 0, 0, 0, 1, 2, 0, 2, 0, 0, 0, 0)</td>\n",
       "      <td>(8.0, 2.0, 2.0)</td>\n",
       "      <td>0</td>\n",
       "      <td>1</td>\n",
       "      <td>(8.0, 2.0, 2.0, 0.64960325, 0.3675156, -1.7443...</td>\n",
       "      <td>0.00005</td>\n",
       "      <td>0.000008</td>\n",
       "      <td>6.643013</td>\n",
       "    </tr>\n",
       "    <tr>\n",
       "      <th>791</th>\n",
       "      <td>791</td>\n",
       "      <td>(3.5, 0.8660254037844386, 0.09067367)</td>\n",
       "      <td>48</td>\n",
       "      <td>(2, 1, 0, 0, 0, 0, 1, 0, 0, 0, 1, 0)</td>\n",
       "      <td>(8.0, 3.0, 1.0)</td>\n",
       "      <td>0</td>\n",
       "      <td>1</td>\n",
       "      <td>(8.0, 3.0, 1.0, 0.44964484, 0.36723598, -1.731...</td>\n",
       "      <td>0.00005</td>\n",
       "      <td>0.000030</td>\n",
       "      <td>1.660753</td>\n",
       "    </tr>\n",
       "    <tr>\n",
       "      <th>784</th>\n",
       "      <td>784</td>\n",
       "      <td>(3.5, 0.8660254037844386, 0.33462867)</td>\n",
       "      <td>12</td>\n",
       "      <td>(2, 0, 0, 0, 1, 1, 0, 1, 0, 0, 0, 0)</td>\n",
       "      <td>(8.0, 3.0, 1.0)</td>\n",
       "      <td>0</td>\n",
       "      <td>16</td>\n",
       "      <td>(8.0, 3.0, 1.0, 0.43961444, 0.36797842, -1.721...</td>\n",
       "      <td>0.00080</td>\n",
       "      <td>0.000008</td>\n",
       "      <td>106.288200</td>\n",
       "    </tr>\n",
       "    <tr>\n",
       "      <th>3099</th>\n",
       "      <td>3099</td>\n",
       "      <td>(3.5, 2.598076211353316, -0.23161014)</td>\n",
       "      <td>24</td>\n",
       "      <td>(1, 0, 0, 2, 1, 2, 0, 2, 0, 0, 0, 0)</td>\n",
       "      <td>(7.0, 2.0, 3.0)</td>\n",
       "      <td>0</td>\n",
       "      <td>2</td>\n",
       "      <td>(7.0, 2.0, 3.0, 0.55560382, 0.16058853, -1.646...</td>\n",
       "      <td>0.00010</td>\n",
       "      <td>0.000015</td>\n",
       "      <td>6.643013</td>\n",
       "    </tr>\n",
       "    <tr>\n",
       "      <th>3215</th>\n",
       "      <td>3215</td>\n",
       "      <td>(3.5, 2.598076211353316, -0.00540391)</td>\n",
       "      <td>48</td>\n",
       "      <td>(1, 2, 0, 0, 0, 2, 1, 0, 0, 2, 0, 0)</td>\n",
       "      <td>(7.0, 2.0, 3.0)</td>\n",
       "      <td>0</td>\n",
       "      <td>1</td>\n",
       "      <td>(7.0, 2.0, 3.0, 0.57121653, 0.1595183, -1.6616...</td>\n",
       "      <td>0.00005</td>\n",
       "      <td>0.000030</td>\n",
       "      <td>1.660753</td>\n",
       "    </tr>\n",
       "  </tbody>\n",
       "</table>\n",
       "</div>"
      ],
      "text/plain": [
       "                            shell_ID                         shell_phys_emb  \\\n",
       "central_atom_type shell_ID                                                    \n",
       "0                 2293          2293  (3.0, 1.7320508075688772, 0.37284796)   \n",
       "                  791            791  (3.5, 0.8660254037844386, 0.09067367)   \n",
       "                  784            784  (3.5, 0.8660254037844386, 0.33462867)   \n",
       "                  3099          3099  (3.5, 2.598076211353316, -0.23161014)   \n",
       "                  3215          3215  (3.5, 2.598076211353316, -0.00540391)   \n",
       "\n",
       "                            counts                    shell_atomic_types  \\\n",
       "central_atom_type shell_ID                                                 \n",
       "0                 2293          12  (1, 0, 0, 0, 1, 2, 0, 2, 0, 0, 0, 0)   \n",
       "                  791           48  (2, 1, 0, 0, 0, 0, 1, 0, 0, 0, 1, 0)   \n",
       "                  784           12  (2, 0, 0, 0, 1, 1, 0, 1, 0, 0, 0, 0)   \n",
       "                  3099          24  (1, 0, 0, 2, 1, 2, 0, 2, 0, 0, 0, 0)   \n",
       "                  3215          48  (1, 2, 0, 0, 0, 2, 1, 0, 0, 2, 0, 0)   \n",
       "\n",
       "                           shell_concentration  central_atom_type  count_md  \\\n",
       "central_atom_type shell_ID                                                    \n",
       "0                 2293         (8.0, 2.0, 2.0)                  0         1   \n",
       "                  791          (8.0, 3.0, 1.0)                  0         1   \n",
       "                  784          (8.0, 3.0, 1.0)                  0        16   \n",
       "                  3099         (7.0, 2.0, 3.0)                  0         2   \n",
       "                  3215         (7.0, 2.0, 3.0)                  0         1   \n",
       "\n",
       "                                                                          emb  \\\n",
       "central_atom_type shell_ID                                                      \n",
       "0                 2293      (8.0, 2.0, 2.0, 0.64960325, 0.3675156, -1.7443...   \n",
       "                  791       (8.0, 3.0, 1.0, 0.44964484, 0.36723598, -1.731...   \n",
       "                  784       (8.0, 3.0, 1.0, 0.43961444, 0.36797842, -1.721...   \n",
       "                  3099      (7.0, 2.0, 3.0, 0.55560382, 0.16058853, -1.646...   \n",
       "                  3215      (7.0, 2.0, 3.0, 0.57121653, 0.1595183, -1.6616...   \n",
       "\n",
       "                                  p         q   pop_ratio  \n",
       "central_atom_type shell_ID                                 \n",
       "0                 2293      0.00005  0.000008    6.643013  \n",
       "                  791       0.00005  0.000030    1.660753  \n",
       "                  784       0.00080  0.000008  106.288200  \n",
       "                  3099      0.00010  0.000015    6.643013  \n",
       "                  3215      0.00005  0.000030    1.660753  "
      ]
     },
     "execution_count": 5,
     "metadata": {},
     "output_type": "execute_result"
    }
   ],
   "source": [
    "df = pd.read_pickle( \"data/mc/outputs/eca_id/300K/df_microstates.pkl\")\n",
    "df.head(5)"
   ]
  },
  {
   "cell_type": "code",
   "execution_count": null,
   "metadata": {},
   "outputs": [],
   "source": []
  },
  {
   "cell_type": "markdown",
   "metadata": {},
   "source": [
    "Let's compute the dissimilarity between motif $\\mathcal{M}_0$ and $\\mathcal{M}_1$: "
   ]
  },
  {
   "cell_type": "code",
   "execution_count": 26,
   "metadata": {},
   "outputs": [
    {
     "data": {
      "image/png": "[encoded data removed]",
      "text/plain": [
       "<Figure size 300x300 with 1 Axes>"
      ]
     },
     "metadata": {},
     "output_type": "display_data"
    },
    {
     "data": {
      "image/png": "[encoded data removed]",
      "text/plain": [
       "<Figure size 300x300 with 1 Axes>"
      ]
     },
     "metadata": {},
     "output_type": "display_data"
    }
   ],
   "source": [
    "from chemicalmotifidentifier import Plot\n",
    "\n",
    "plot = Plot(structure='fcc',graph_folder='data/inputs_doi-10.48550-arXiv.2311.01545/graph_plot_templates')\n",
    "plot.set_colors(np.array([\"#FED700\", \"#21B0FE\", \"#FE218B\"]))\n",
    "plot.set_node_size(4) \n",
    "plot.set_width(0.2) \n",
    "\n",
    "for i in [0,1]:\n",
    "    df_row = df.iloc[i]\n",
    "\n",
    "    types_with_central_atom = np.concatenate(([df_row.central_atom_type],np.array(list(df_row.shell_atomic_types))))\n",
    "    \n",
    "    fig, ax = plt.subplots(figsize=(1,1))\n",
    "    plot.plot_ms(new_atom_types=types_with_central_atom)\n",
    "    plt.show()\n"
   ]
  },
  {
   "cell_type": "code",
   "execution_count": 38,
   "metadata": {},
   "outputs": [
    {
     "data": {
      "text/html": [
       "<pre style=\"white-space:pre;overflow-x:auto;line-height:normal;font-family:Menlo,'DejaVu Sans Mono',consolas,'Courier New',monospace\"><span style=\"font-weight: bold\">(</span><span style=\"color: #800080; text-decoration-color: #800080; font-weight: bold\">array</span><span style=\"font-weight: bold\">([</span><span style=\"color: #008080; text-decoration-color: #008080; font-weight: bold\">0</span><span style=\"font-weight: bold\">])</span>, <span style=\"color: #800080; text-decoration-color: #800080; font-weight: bold\">array</span><span style=\"font-weight: bold\">([</span><span style=\"color: #008080; text-decoration-color: #008080; font-weight: bold\">1</span>.<span style=\"font-weight: bold\">])</span>, <span style=\"color: #800080; text-decoration-color: #800080; font-weight: bold\">array</span><span style=\"font-weight: bold\">([</span><span style=\"color: #008080; text-decoration-color: #008080; font-weight: bold\">0.28217429</span><span style=\"font-weight: bold\">]))</span>\n",
       "</pre>\n"
      ],
      "text/plain": [
       "\u001b[1m(\u001b[0m\u001b[1;35marray\u001b[0m\u001b[1m(\u001b[0m\u001b[1m[\u001b[0m\u001b[1;36m0\u001b[0m\u001b[1m]\u001b[0m\u001b[1m)\u001b[0m, \u001b[1;35marray\u001b[0m\u001b[1m(\u001b[0m\u001b[1m[\u001b[0m\u001b[1;36m1\u001b[0m.\u001b[1m]\u001b[0m\u001b[1m)\u001b[0m, \u001b[1;35marray\u001b[0m\u001b[1m(\u001b[0m\u001b[1m[\u001b[0m\u001b[1;36m0.28217429\u001b[0m\u001b[1m]\u001b[0m\u001b[1m)\u001b[0m\u001b[1m)\u001b[0m\n"
      ]
     },
     "metadata": {},
     "output_type": "display_data"
    },
    {
     "data": {
      "text/html": [
       "<pre style=\"white-space:pre;overflow-x:auto;line-height:normal;font-family:Menlo,'DejaVu Sans Mono',consolas,'Courier New',monospace\">The dissimilarity between these two motifs is: <span style=\"font-weight: bold\">[</span><span style=\"color: #008080; text-decoration-color: #008080; font-weight: bold\">8.77218296</span><span style=\"font-weight: bold\">]</span>.\n",
       "</pre>\n"
      ],
      "text/plain": [
       "The dissimilarity between these two motifs is: \u001b[1m[\u001b[0m\u001b[1;36m8.77218296\u001b[0m\u001b[1m]\u001b[0m.\n"
      ]
     },
     "metadata": {},
     "output_type": "display_data"
    }
   ],
   "source": [
    "from chemicalmotifidentifier import Dissimilarity\n",
    "\n",
    "phys_emb_i =np.concatenate(([df.iloc[0].central_atom_type],df.iloc[0].shell_phys_emb))\n",
    "phys_emb_j = np.concatenate(([df.iloc[1].central_atom_type],df.iloc[1].shell_phys_emb))\n",
    "\n",
    "central_atom_dissim,concentration_dissim,structural_dissim, = Dissimilarity().get_separate_dissimilarities(\n",
    "3, phys_emb_j, phys_emb_i\n",
    ")\n",
    "print((central_atom_dissim,concentration_dissim,structural_dissim,))\n",
    "\n",
    "weights =[1 * 12, 1 * 24 / 12, 24]\n",
    "d_ij = weights[0]* central_atom_dissim  +  weights[1] * concentration_dissim + weights[2]*structural_dissim\n",
    "\n",
    "\n",
    "print(f'The dissimilarity between these two motifs is: {d_ij}.')"
   ]
  },
  {
   "cell_type": "code",
   "execution_count": null,
   "metadata": {},
   "outputs": [],
   "source": []
  }
 ],
 "metadata": {
  "kernelspec": {
   "display_name": "Python 3",
   "language": "python",
   "name": "python3"
  },
  "language_info": {
   "codemirror_mode": {
    "name": "ipython",
    "version": 3
   },
   "file_extension": ".py",
   "mimetype": "text/x-python",
   "name": "python",
   "nbconvert_exporter": "python",
   "pygments_lexer": "ipython3",
   "version": "3.11.7"
  }
 },
 "nbformat": 4,
 "nbformat_minor": 2
}
